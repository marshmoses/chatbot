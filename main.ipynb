{
 "cells": [
  {
   "cell_type": "code",
   "execution_count": 1,
   "metadata": {},
   "outputs": [],
   "source": [
    "import networkx as nx\n",
    "\n",
    "# Generate a random graph with 100 nodes\n",
    "G = nx.gnm_random_graph(n=100, m=200)\n",
    "\n",
    "# You can then manipulate or analyze the graph as needed\n",
    "\n"
   ]
  },
  {
   "cell_type": "code",
   "execution_count": 43,
   "metadata": {},
   "outputs": [],
   "source": [
    "\n",
    "#%pip install faker"
   ]
  },
  {
   "cell_type": "code",
   "execution_count": 4,
   "metadata": {},
   "outputs": [],
   "source": [
    "from faker import Faker\n",
    "import json\n",
    "\n",
    "fake = Faker()\n",
    "\n",
    "# Generate mock JSON data for a list of users\n",
    "users = [{'name': fake.name(), 'email': fake.email()} for _ in range(10)]\n",
    "\n",
    "# Convert the list of dictionaries to JSON format\n",
    "json_data = json.dumps(users, indent=2)\n",
    "\n",
    "# You can then write the JSON data to a file or use it as needed\n",
    "\n"
   ]
  },
  {
   "cell_type": "code",
   "execution_count": 5,
   "metadata": {},
   "outputs": [
    {
     "name": "stdout",
     "output_type": "stream",
     "text": [
      "Nodes: ['Home', 'About', 'Contact']\n",
      "Edges: [('Home', 'About'), ('Home', 'Contact')]\n"
     ]
    }
   ],
   "source": [
    "import networkx as nx\n",
    "\n",
    "# Create an empty directed graph\n",
    "website_graph = nx.DiGraph()\n",
    "\n",
    "# Add nodes representing web pages\n",
    "website_graph.add_node(\"Home\", url=\"/home\", content=\"Welcome to our website!\")\n",
    "website_graph.add_node(\"About\", url=\"/about\", content=\"Learn more about us.\")\n",
    "website_graph.add_node(\"Contact\", url=\"/contact\", content=\"Contact us for inquiries.\")\n",
    "\n",
    "# Add edges representing links between pages\n",
    "website_graph.add_edge(\"Home\", \"About\")\n",
    "website_graph.add_edge(\"Home\", \"Contact\")\n",
    "\n",
    "# Print the graph nodes and edges\n",
    "print(\"Nodes:\", website_graph.nodes())\n",
    "print(\"Edges:\", website_graph.edges())\n",
    "\n"
   ]
  },
  {
   "cell_type": "code",
   "execution_count": 6,
   "metadata": {},
   "outputs": [
    {
     "name": "stdout",
     "output_type": "stream",
     "text": [
      "{\n",
      "    \"pages\": [\n",
      "        {\n",
      "            \"title\": \"Home\",\n",
      "            \"url\": \"/home\",\n",
      "            \"content\": \"Welcome to our website!\"\n",
      "        },\n",
      "        {\n",
      "            \"title\": \"About\",\n",
      "            \"url\": \"/about\",\n",
      "            \"content\": \"Learn more about us.\"\n",
      "        },\n",
      "        {\n",
      "            \"title\": \"Contact\",\n",
      "            \"url\": \"/contact\",\n",
      "            \"content\": \"Contact us for inquiries.\"\n",
      "        }\n",
      "    ]\n",
      "}\n"
     ]
    }
   ],
   "source": [
    "\n",
    "# Mock JSON data representing website structure and content\n",
    "website_data = {\n",
    "    \"pages\": [\n",
    "        {\n",
    "            \"title\": \"Home\",\n",
    "            \"url\": \"/home\",\n",
    "            \"content\": \"Welcome to our website!\"\n",
    "        },\n",
    "        {\n",
    "            \"title\": \"About\",\n",
    "            \"url\": \"/about\",\n",
    "            \"content\": \"Learn more about us.\"\n",
    "        },\n",
    "        {\n",
    "            \"title\": \"Contact\",\n",
    "            \"url\": \"/contact\",\n",
    "            \"content\": \"Contact us for inquiries.\"\n",
    "        }\n",
    "    ]\n",
    "}\n",
    "\n",
    "# Print the JSON data\n",
    "import json\n",
    "print(json.dumps(website_data, indent=4))\n"
   ]
  },
  {
   "cell_type": "code",
   "execution_count": 7,
   "metadata": {},
   "outputs": [
    {
     "name": "stdout",
     "output_type": "stream",
     "text": [
      "[{'page': 'Home', 'url': '/home', 'content': 'Welcome to our website!'}, {'page': 'About', 'url': '/about', 'content': 'Learn more about us.'}, {'page': 'Contact', 'url': '/contact', 'content': 'Contact us for inquiries.'}]\n"
     ]
    }
   ],
   "source": [
    "# Mock NoSQL data (MongoDB documents)\n",
    "nosql_data = [\n",
    "    {\n",
    "        \"page\": \"Home\",\n",
    "        \"url\": \"/home\",\n",
    "        \"content\": \"Welcome to our website!\"\n",
    "    },\n",
    "    {\n",
    "        \"page\": \"About\",\n",
    "        \"url\": \"/about\",\n",
    "        \"content\": \"Learn more about us.\"\n",
    "    },\n",
    "    {\n",
    "        \"page\": \"Contact\",\n",
    "        \"url\": \"/contact\",\n",
    "        \"content\": \"Contact us for inquiries.\"\n",
    "    }\n",
    "]\n",
    "\n",
    "# Print the NoSQL data\n",
    "print(nosql_data)\n",
    "\n"
   ]
  },
  {
   "cell_type": "code",
   "execution_count": 21,
   "metadata": {},
   "outputs": [],
   "source": [
    "\n",
    "\n",
    "#%pip install nltk\n",
    "\n"
   ]
  },
  {
   "cell_type": "code",
   "execution_count": 13,
   "metadata": {},
   "outputs": [
    {
     "name": "stderr",
     "output_type": "stream",
     "text": [
      "[nltk_data] Downloading package punkt to\n",
      "[nltk_data]     C:\\Users\\USER\\AppData\\Roaming\\nltk_data...\n",
      "[nltk_data]   Unzipping tokenizers\\punkt.zip.\n"
     ]
    },
    {
     "data": {
      "text/plain": [
       "True"
      ]
     },
     "execution_count": 13,
     "metadata": {},
     "output_type": "execute_result"
    }
   ],
   "source": [
    "\n",
    "#import nltk\n",
    "#nltk.download('punkt')\n"
   ]
  },
  {
   "cell_type": "code",
   "execution_count": 23,
   "metadata": {},
   "outputs": [
    {
     "name": "stdout",
     "output_type": "stream",
     "text": [
      "Question: Can you provide navigation instructions for the website?\n",
      "Answer: Navigation instructions:\n",
      "Home: Welcome to our website!\n",
      "  Links to: About, Contact\n",
      "About: Learn more about us.\n",
      "Contact: Contact us for inquiries.\n",
      "\n"
     ]
    }
   ],
   "source": [
    "\n",
    "import networkx as nx\n",
    "import json\n",
    "import nltk\n",
    "from nltk.tokenize import word_tokenize\n",
    "\n",
    "# Sample Graph data representing website structure\n",
    "website_graph = nx.DiGraph()\n",
    "website_graph.add_node(\"Home\", url=\"/home\", content=\"Welcome to our website!\")\n",
    "website_graph.add_node(\"About\", url=\"/about\", content=\"Learn more about us.\")\n",
    "website_graph.add_node(\"Contact\", url=\"/contact\", content=\"Contact us for inquiries.\")\n",
    "website_graph.add_edge(\"Home\", \"About\")\n",
    "website_graph.add_edge(\"Home\", \"Contact\")\n",
    "\n",
    "# Sample JSON data representing website structure and content\n",
    "website_data = {\n",
    "    \"pages\": [\n",
    "        {\n",
    "            \"title\": \"Home\",\n",
    "            \"url\": \"/home\",\n",
    "            \"content\": \"Welcome to our website!\"\n",
    "        },\n",
    "        {\n",
    "            \"title\": \"About\",\n",
    "            \"url\": \"/about\",\n",
    "            \"content\": \"Learn more about us.\"\n",
    "        },\n",
    "        {\n",
    "            \"title\": \"Contact\",\n",
    "            \"url\": \"/contact\",\n",
    "            \"content\": \"Contact us for inquiries.\"\n",
    "        }\n",
    "    ]\n",
    "}\n",
    "\n",
    "# Preprocess the natural language question\n",
    "def preprocess_question(question):\n",
    "    # Tokenize the question\n",
    "    tokens = word_tokenize(question)\n",
    "    # Lowercase the tokens\n",
    "    tokens = [token.lower() for token in tokens]\n",
    "    return tokens\n",
    "\n",
    "# Analyze the question and determine the intent\n",
    "def analyze_intent(tokens):\n",
    "    # Example intent analysis based on keywords\n",
    "    if \"navigation\" in tokens:\n",
    "        return \"navigation\"\n",
    "    elif \"use\" in tokens or \"instructions\" in tokens:\n",
    "        return \"use\"\n",
    "    else:\n",
    "        return \"other\"\n",
    "\n",
    "# Retrieve navigation instructions from the website graph\n",
    "def retrieve_navigation_instructions():\n",
    "    instructions = \"Navigation instructions:\\n\"\n",
    "    for node in website_graph.nodes:\n",
    "        instructions += f\"{node}: {website_graph.nodes[node]['content']}\\n\"\n",
    "        neighbors = list(website_graph.neighbors(node))\n",
    "        if neighbors:\n",
    "            instructions += f\"  Links to: {', '.join(neighbors)}\\n\"\n",
    "    return instructions\n",
    "\n",
    "# Retrieve relevant information from Graph and JSON data\n",
    "def retrieve_information(intent):\n",
    "    if intent == \"navigation\":\n",
    "        return retrieve_navigation_instructions()\n",
    "    elif intent == \"use\":\n",
    "        return json.dumps(website_data, indent=4)\n",
    "    else:\n",
    "        return \"I'm sorry, I couldn't understand the question.\"\n",
    "\n",
    "# Generate a long-form answer based on the intent and retrieved information\n",
    "def generate_answer(intent, information):\n",
    "    if intent == \"navigation\":\n",
    "        return information\n",
    "    elif intent == \"use\":\n",
    "        return f\"Here are the website use and instructions:\\n{information}\"\n",
    "    else:\n",
    "        return information\n",
    "\n",
    "# Chatbot main function\n",
    "def chatbot(question):\n",
    "    # Preprocess the question\n",
    "    tokens = preprocess_question(question)\n",
    "    # Analyze the intent\n",
    "    intent = analyze_intent(tokens)\n",
    "    # Retrieve relevant information\n",
    "    information = retrieve_information(intent)\n",
    "    # Generate the answer\n",
    "    answer = generate_answer(intent, information)\n",
    "    return answer\n",
    "\n",
    "# Example usage\n",
    "question = \"Can you provide navigation instructions for the website?\"\n",
    "answer = chatbot(question)\n",
    "print(\"Question:\", question)\n",
    "print(\"Answer:\", answer)\n"
   ]
  },
  {
   "cell_type": "code",
   "execution_count": 24,
   "metadata": {},
   "outputs": [
    {
     "name": "stdout",
     "output_type": "stream",
     "text": [
      "Generated e-commerce dataset: {'products': [{'product_name': 'foot', 'price': 848.53, 'description': 'Person eat better gas though road best. Where base whole special. Him reflect form.\\nSeat what provide system change yes nearly. Girl sea understand source risk news job.'}, {'product_name': 'customer', 'price': 469.49, 'description': 'Over how real it policy minute. Window course memory child among option. Road them research make responsibility agreement word.'}, {'product_name': 'way', 'price': 191.63, 'description': 'Clear space career start. Kitchen so speak child.\\nHundred my official central. Daughter news seven officer. Responsibility south movie.'}, {'product_name': 'cost', 'price': 584.87, 'description': 'Buy song government only thank. Year throw give teacher project garden raise remember.\\nMe whom mother. Mother decision rise gun near after appear.'}, {'product_name': 'material', 'price': 495.8, 'description': 'Standard relate far live eat. Can exactly design four risk. Necessary car list future letter purpose.\\nMonth area rest newspaper book pressure involve. List agree away me. Always wrong never space.'}, {'product_name': 'dinner', 'price': 290.39, 'description': 'During suddenly which buy. Edge paper leader. Policy idea really nation card detail bit.'}, {'product_name': 'take', 'price': 672.31, 'description': 'Per point market because reality space. Figure computer sort practice customer with model.\\nSing common race home. Security development prepare behind amount.\\nOld experience because clear.'}, {'product_name': 'thank', 'price': 237.5, 'description': 'Bad along knowledge international station whether. Design find floor top minute mention instead. Either up whole rule away central.'}, {'product_name': 'assume', 'price': 244.17, 'description': 'Eat theory president.\\nPlayer executive room rise. Attack huge police society manage who.\\nBlood activity each.'}, {'product_name': 'other', 'price': 634.48, 'description': 'Short design mouth affect. Husband during economic.\\nLeft research bed second. General author store throw remember friend environmental.\\nPlay you assume miss group realize you.'}], 'customers': [{'name': 'Jonathan Johnson', 'email': 'qjones@example.com', 'address': '32677 Hardy Road Suite 255\\nWest Joannaport, AR 20233'}, {'name': 'Stephanie Williams', 'email': 'grahamalexis@example.org', 'address': '76403 David Lake\\nMarcushaven, MT 77849'}, {'name': 'Janice Calhoun', 'email': 'kyleross@example.net', 'address': '29926 Clark Dale\\nPort Brandonmouth, CO 09598'}, {'name': 'Keith Hoffman', 'email': 'gallaghermary@example.com', 'address': '440 John Passage\\nCarsonland, MP 77727'}, {'name': 'Nicole Powell', 'email': 'bradleysmith@example.org', 'address': '6384 Davis Rapids\\nNorth Jennifer, OH 34367'}], 'orders': [{'product_id': 8, 'customer_id': 2, 'quantity': 2, 'total_price': 475.0}, {'product_id': 9, 'customer_id': 4, 'quantity': 4, 'total_price': 976.68}, {'product_id': 7, 'customer_id': 5, 'quantity': 8, 'total_price': 5378.48}, {'product_id': 1, 'customer_id': 4, 'quantity': 9, 'total_price': 7636.7699999999995}, {'product_id': 3, 'customer_id': 3, 'quantity': 4, 'total_price': 766.52}, {'product_id': 10, 'customer_id': 1, 'quantity': 10, 'total_price': 6344.8}, {'product_id': 4, 'customer_id': 5, 'quantity': 1, 'total_price': 584.87}, {'product_id': 1, 'customer_id': 3, 'quantity': 2, 'total_price': 1697.06}, {'product_id': 2, 'customer_id': 4, 'quantity': 6, 'total_price': 2816.94}, {'product_id': 1, 'customer_id': 1, 'quantity': 10, 'total_price': 8485.3}, {'product_id': 3, 'customer_id': 1, 'quantity': 9, 'total_price': 1724.67}, {'product_id': 8, 'customer_id': 1, 'quantity': 7, 'total_price': 1662.5}, {'product_id': 8, 'customer_id': 1, 'quantity': 1, 'total_price': 237.5}, {'product_id': 7, 'customer_id': 3, 'quantity': 1, 'total_price': 672.31}, {'product_id': 8, 'customer_id': 2, 'quantity': 8, 'total_price': 1900.0}, {'product_id': 1, 'customer_id': 1, 'quantity': 6, 'total_price': 5091.18}, {'product_id': 5, 'customer_id': 1, 'quantity': 6, 'total_price': 2974.8}, {'product_id': 4, 'customer_id': 4, 'quantity': 6, 'total_price': 3509.2200000000003}, {'product_id': 2, 'customer_id': 3, 'quantity': 10, 'total_price': 4694.9}, {'product_id': 9, 'customer_id': 3, 'quantity': 1, 'total_price': 244.17}]}\n"
     ]
    }
   ],
   "source": [
    "\n",
    "from faker import Faker\n",
    "import random\n",
    "\n",
    "fake = Faker()\n",
    "\n",
    "# Generate product data\n",
    "def generate_product():\n",
    "    product_name = fake.word()\n",
    "    price = round(random.uniform(10, 1000), 2)\n",
    "    description = fake.text()\n",
    "    return {\n",
    "        \"product_name\": product_name,\n",
    "        \"price\": price,\n",
    "        \"description\": description\n",
    "    }\n",
    "\n",
    "# Generate customer data\n",
    "def generate_customer():\n",
    "    name = fake.name()\n",
    "    email = fake.email()\n",
    "    address = fake.address()\n",
    "    return {\n",
    "        \"name\": name,\n",
    "        \"email\": email,\n",
    "        \"address\": address\n",
    "    }\n",
    "\n",
    "# Generate order data\n",
    "def generate_order(products, customers):\n",
    "    product = random.choice(products)\n",
    "    customer = random.choice(customers)\n",
    "    quantity = random.randint(1, 10)\n",
    "    total_price = product[\"price\"] * quantity\n",
    "    return {\n",
    "        \"product_id\": products.index(product) + 1,\n",
    "        \"customer_id\": customers.index(customer) + 1,\n",
    "        \"quantity\": quantity,\n",
    "        \"total_price\": total_price\n",
    "    }\n",
    "\n",
    "# Generate e-commerce dataset\n",
    "def generate_dataset(num_products, num_customers, num_orders):\n",
    "    products = [generate_product() for _ in range(num_products)]\n",
    "    customers = [generate_customer() for _ in range(num_customers)]\n",
    "    orders = [generate_order(products, customers) for _ in range(num_orders)]\n",
    "    return {\n",
    "        \"products\": products,\n",
    "        \"customers\": customers,\n",
    "        \"orders\": orders\n",
    "    }\n",
    "\n",
    "# Example usage\n",
    "ecommerce_data = generate_dataset(10, 5, 20)\n",
    "print(\"Generated e-commerce dataset:\", ecommerce_data)\n"
   ]
  },
  {
   "cell_type": "code",
   "execution_count": 27,
   "metadata": {},
   "outputs": [],
   "source": [
    "\n",
    "#%pip install pymongo\n"
   ]
  },
  {
   "cell_type": "code",
   "execution_count": 32,
   "metadata": {},
   "outputs": [
    {
     "name": "stdout",
     "output_type": "stream",
     "text": [
      "Response: [{'product_name': 'itself', 'price': 343.02, 'description': 'Bring age return pull. Outside matter artist. But place anything week agreement election fund.\\nWish despite test audience. Include all wind moment still. Question worry financial hand sing.'}, {'product_name': 'positive', 'price': 376.21, 'description': 'Debate language activity. Send nation commercial production. Almost site movement collection.\\nCustomer lose remember item fund. Wait remember window pressure mean. Study can unit rather fly.'}, {'product_name': 'will', 'price': 699.12, 'description': 'Charge even action son mind design reduce score. Visit color far state mother. Certainly white every ground quickly.\\nRich expect other group middle throw. Trip mouth skill bar. Position me when.'}, {'product_name': 'day', 'price': 933.04, 'description': 'Grow deep under. Guy capital drop including than book space ball. Good your study forward career.'}, {'product_name': 'cut', 'price': 466.66, 'description': 'Send ability hospital perhaps. Its order station media develop environment girl hair.\\nBuilding many clearly glass continue officer recently.'}, {'product_name': 'career', 'price': 666.02, 'description': 'Employee lay ball she. White necessary pressure gas break price.\\nEver bed car civil nature treatment. Learn case on eat process standard along.\\nPoor style mother already to. Pass learn nice final.'}, {'product_name': 'growth', 'price': 552.97, 'description': 'Power both pressure worker prepare property.\\nCause take traditional account. Develop main thus theory debate.'}, {'product_name': 'environmental', 'price': 681.39, 'description': 'Energy impact ok hair election around unit. Though go choose glass.\\nAffect physical important picture.\\nSend free this accept college.'}, {'product_name': 'determine', 'price': 140.57, 'description': 'Who alone through leave recent. Believe bar buy friend include ground.\\nAnalysis believe spend character. Second quality specific clearly explain. Many during either.'}, {'product_name': 'try', 'price': 587.16, 'description': 'Without reflect left. Positive staff each pick fact wind. Rate sure year across avoid.'}, {'product_name': 'factor', 'price': 93.35, 'description': 'Forward responsibility important. Market rich purpose hand charge into study. Produce industry those fact reality work.'}, {'product_name': 'price', 'price': 567.51, 'description': 'Recognize president job take unit human. Receive stuff inside TV it production size. Return claim until realize direction miss.'}, {'product_name': 'boy', 'price': 457.73, 'description': 'If Mrs everybody spend send fill. How anything long may fast smile. Recently gun hear just.'}, {'product_name': 'address', 'price': 422.17, 'description': 'Natural on business behavior factor. Issue describe spring once although smile bag. Already seem stop history.'}, {'product_name': 'enjoy', 'price': 337.37, 'description': 'Republican anything point entire should here. Know from himself sure political parent card network. Every necessary TV certain charge his as between.\\nFor rest example Congress mention drug authority.'}, {'product_name': 'system', 'price': 972.76, 'description': 'Produce choice season movie film newspaper. Involve Mr drive smile. Upon coach parent mind. Best point ago apply.'}, {'product_name': 'pretty', 'price': 738.18, 'description': 'View sure once wonder draw consider. Campaign threat medical become gas. President off they lay majority attention.'}, {'product_name': 'method', 'price': 549.26, 'description': 'Imagine it look by. Hot old health soldier.\\nAmount newspaper situation one government hope current voice. See contain now high.'}, {'product_name': 'moment', 'price': 821.25, 'description': 'Work why new window little well effort. Safe worker five back high yes point indeed.'}, {'product_name': 'low', 'price': 843.08, 'description': 'Still human condition century about key. Study year receive line accept. Effect walk history.'}]\n"
     ]
    }
   ],
   "source": [
    "\n",
    "from pymongo import MongoClient\n",
    "import re\n",
    "\n",
    "# Initialize MongoDB client and database\n",
    "client = MongoClient('mongodb://localhost:27017/')\n",
    "db = client['ecommerce_db']\n",
    "products_collection = db['products']\n",
    "customers_collection = db['customers']\n",
    "orders_collection = db['orders']\n",
    "\n",
    "# Sample e-commerce data (generated previously)\n",
    "ecommerce_data = generate_dataset(10, 5, 20)\n",
    "\n",
    "# Insert data into MongoDB collections\n",
    "products_collection.insert_many(ecommerce_data['products'])\n",
    "customers_collection.insert_many(ecommerce_data['customers'])\n",
    "orders_collection.insert_many(ecommerce_data['orders'])\n",
    "\n",
    "# Function to convert natural language query to MongoDB query\n",
    "def convert_to_mongodb_query(query):\n",
    "    # Example implementation: convert \"show me products under $50\" to MongoDB query\n",
    "    match = re.match(r'show me products under \\$(\\d+)', query)\n",
    "    if match:\n",
    "        max_price = int(match.group(1))\n",
    "        return {'price': {'$lt': max_price}}\n",
    "    else:\n",
    "        # Handle other query types\n",
    "        return {}\n",
    "\n",
    "# Function to analyze and respond to user queries\n",
    "def chatbot(query):\n",
    "    # Convert natural language query to MongoDB query\n",
    "    mongo_query = convert_to_mongodb_query(query)\n",
    "    \n",
    "    # Execute MongoDB query\n",
    "    results = products_collection.find(mongo_query)\n",
    "    \n",
    "    # Process and format results\n",
    "    response = []\n",
    "    for result in results:\n",
    "        response.append({\n",
    "            'product_name': result['product_name'],\n",
    "            'price': result['price'],\n",
    "            'description': result['description']\n",
    "        })\n",
    "    \n",
    "    return response\n",
    "\n",
    "# Example usage\n",
    "query = \"show me products under $10000\"\n",
    "response = chatbot(query)\n",
    "print(\"Response:\", response)\n"
   ]
  },
  {
   "cell_type": "code",
   "execution_count": 31,
   "metadata": {},
   "outputs": [
    {
     "name": "stdout",
     "output_type": "stream",
     "text": [
      "Data inserted successfully.\n"
     ]
    }
   ],
   "source": [
    "\n",
    "from pymongo import MongoClient\n",
    "\n",
    "# Initialize MongoDB client and database\n",
    "client = MongoClient('mongodb://localhost:27017/')  # Connect to MongoDB running on localhost\n",
    "db = client['ecommerce']  # Use the 'ecommerce' database\n",
    "\n",
    "# Create a collection for storing ecommerce data\n",
    "collection = db['products']  # Use the 'products' collection\n",
    "\n",
    "# Sample document to insert into the collection\n",
    "product_data = {\n",
    "    \"name\": \"Smartphone\",\n",
    "    \"category\": \"Electronics\",\n",
    "    \"price\": 599.99,\n",
    "    \"stock\": 100\n",
    "}\n",
    "\n",
    "# Insert the sample document into the collection\n",
    "collection.insert_one(product_data)\n",
    "\n",
    "# Confirm that the document is inserted\n",
    "print(\"Data inserted successfully.\")\n"
   ]
  },
  {
   "cell_type": "code",
   "execution_count": 33,
   "metadata": {},
   "outputs": [
    {
     "data": {
      "text/plain": [
       "{'user_id': 'string',\n",
       " 'query': 'string',\n",
       " 'response': 'string',\n",
       " 'feedback': 'string',\n",
       " 'timestamp': 'datetime'}"
      ]
     },
     "execution_count": 33,
     "metadata": {},
     "output_type": "execute_result"
    }
   ],
   "source": [
    "\n",
    "{\n",
    "  \"user_id\": \"string\",\n",
    "  \"query\": \"string\",\n",
    "  \"response\": \"string\",\n",
    "  \"feedback\": \"string\",\n",
    "  \"timestamp\": \"datetime\"\n",
    "}\n"
   ]
  },
  {
   "cell_type": "code",
   "execution_count": 35,
   "metadata": {},
   "outputs": [],
   "source": [
    "\n",
    "from pymongo import MongoClient\n",
    "from datetime import datetime\n",
    "# Initialize MongoDB client and database\n",
    "client = MongoClient('mongodb://localhost:27017/')\n",
    "db = client['chatbot_data']\n",
    "interaction_collection = db['user_interactions']\n",
    "\n",
    "# Function to log user interactions and feedback\n",
    "def log_interaction(user_id, query, response, feedback):\n",
    "    interaction_data = {\n",
    "        \"user_id\": user_id,\n",
    "        \"query\": query,\n",
    "        \"response\": response,\n",
    "        \"feedback\": feedback,\n",
    "        \"timestamp\": datetime.now()\n",
    "    }\n",
    "    interaction_collection.insert_one(interaction_data)\n",
    "\n",
    "# Example usage\n",
    "user_id = \"user123\"\n",
    "query = \"show me products under $100\"\n",
    "response = \"Here are the products under $100: ...\"\n",
    "feedback = \"positive\"\n",
    "log_interaction(user_id, query, response, feedback)\n"
   ]
  },
  {
   "cell_type": "code",
   "execution_count": 30,
   "metadata": {},
   "outputs": [
    {
     "name": "stdout",
     "output_type": "stream",
     "text": [
      "Requirement already satisfied: pymongo[srv] in c:\\users\\user\\appdata\\local\\programs\\python\\python311\\lib\\site-packages (4.6.2)Note: you may need to restart the kernel to use updated packages.\n"
     ]
    },
    {
     "name": "stderr",
     "output_type": "stream",
     "text": [
      "\n",
      "[notice] A new release of pip is available: 23.2.1 -> 24.0\n",
      "[notice] To update, run: python.exe -m pip install --upgrade pip\n"
     ]
    },
    {
     "name": "stdout",
     "output_type": "stream",
     "text": [
      "\n",
      "Requirement already satisfied: dnspython<3.0.0,>=1.16.0 in c:\\users\\user\\appdata\\local\\programs\\python\\python311\\lib\\site-packages (from pymongo[srv]) (2.6.1)\n"
     ]
    }
   ],
   "source": [
    "\n",
    "#%pip install \"pymongo[srv]\""
   ]
  },
  {
   "cell_type": "code",
   "execution_count": 36,
   "metadata": {},
   "outputs": [],
   "source": [
    "\n",
    "import logging\n",
    "\n",
    "# Configure logging\n",
    "logging.basicConfig(filename='chatbot.log', level=logging.INFO)\n",
    "\n",
    "# Function to log user interactions\n",
    "def log_interaction(user_id, query, response):\n",
    "    logging.info(f\"User ID: {user_id} | Query: {query} | Response: {response}\")\n",
    "\n",
    "# Example usage\n",
    "user_id = 123\n",
    "query = \"show me products under $100\"\n",
    "response = [{\"product_name\": \"product1\", \"price\": 50}, {\"product_name\": \"product2\", \"price\": 80}]\n",
    "log_interaction(user_id, query, response)\n"
   ]
  },
  {
   "cell_type": "code",
   "execution_count": 37,
   "metadata": {},
   "outputs": [],
   "source": [
    "\n",
    "from pymongo import MongoClient\n",
    "import datetime\n",
    "\n",
    "# Initialize MongoDB client and database\n",
    "client = MongoClient('mongodb://localhost:27017/')\n",
    "db = client['chatbot_db']\n",
    "feedback_collection = db['user_feedback']\n",
    "\n",
    "# Function to handle user feedback\n",
    "def handle_feedback(user_id, query, response):\n",
    "    feedback = input(\"Please provide feedback (e.g., thumbs up, thumbs down, textual feedback): \")\n",
    "    \n",
    "    # Store feedback in the database\n",
    "    feedback_data = {\n",
    "        'user_id': user_id,\n",
    "        'query': query,\n",
    "        'response': response,\n",
    "        'feedback': feedback,\n",
    "        'timestamp': datetime.datetime.now()\n",
    "    }\n",
    "    feedback_collection.insert_one(feedback_data)\n",
    "\n",
    "# Example usage\n",
    "user_id = 123\n",
    "query = \"show me products under $100\"\n",
    "response = [{\"product_name\": \"product1\", \"price\": 50}, {\"product_name\": \"product2\", \"price\": 80}]\n",
    "handle_feedback(user_id, query, response)\n"
   ]
  },
  {
   "cell_type": "code",
   "execution_count": 38,
   "metadata": {},
   "outputs": [
    {
     "name": "stdout",
     "output_type": "stream",
     "text": [
      "Anonymized User ID: 5994471abb01112afcc18159f6cc74b4f511b99806da59b3caf5a9c173cacfc5\n"
     ]
    }
   ],
   "source": [
    "\n",
    "from hashlib import sha256\n",
    "\n",
    "# Function to anonymize sensitive data (e.g., user IDs)\n",
    "def anonymize_data(user_id):\n",
    "    # Hash the user ID using a secure hashing algorithm (e.g., SHA-256)\n",
    "    hashed_user_id = sha256(user_id.encode()).hexdigest()\n",
    "    return hashed_user_id\n",
    "\n",
    "# Example usage\n",
    "user_id = \"12345\"\n",
    "anonymized_user_id = anonymize_data(user_id)\n",
    "print(\"Anonymized User ID:\", anonymized_user_id)\n"
   ]
  },
  {
   "cell_type": "code",
   "execution_count": 40,
   "metadata": {},
   "outputs": [
    {
     "name": "stdout",
     "output_type": "stream",
     "text": [
      "The 'response_time' column does not exist in the DataFrame.\n"
     ]
    }
   ],
   "source": [
    "\n",
    "from pymongo import MongoClient\n",
    "import pandas as pd\n",
    "\n",
    "# Connect to MongoDB\n",
    "client = MongoClient('mongodb://localhost:27017/')\n",
    "db = client['chatbot_data']\n",
    "collection = db['user_interactions']\n",
    "\n",
    "# Retrieve data from MongoDB\n",
    "data = pd.DataFrame(list(collection.find()))\n",
    "\n",
    "# Check if 'response_time' column exists\n",
    "if 'response_time' in data.columns:\n",
    "    # Perform data analysis (e.g., calculate average response time)\n",
    "    average_response_time = data['response_time'].mean()\n",
    "\n",
    "    # Generate a report\n",
    "    print(\"Average Response Time:\", average_response_time)\n",
    "else:\n",
    "    print(\"The 'response_time' column does not exist in the DataFrame.\")\n"
   ]
  },
  {
   "cell_type": "code",
   "execution_count": 41,
   "metadata": {},
   "outputs": [
    {
     "name": "stdout",
     "output_type": "stream",
     "text": [
      "Accuracy: 1.0\n"
     ]
    }
   ],
   "source": [
    "\n",
    "from sklearn.feature_extraction.text import TfidfVectorizer#\n",
    "from sklearn.model_selection import train_test_split\n",
    "from sklearn.svm import SVC\n",
    "from sklearn.metrics import accuracy_score\n",
    "\n",
    "# Sample dataset of user queries and intents\n",
    "data = [\n",
    "    (\"How can I return a product?\", \"Order Management\"),\n",
    "    (\"What payment methods are accepted?\", \"General Information\"),\n",
    "    (\"Track my recent order\", \"Order Management\"),\n",
    "    # Add more samples...\n",
    "]\n",
    "\n",
    "# Split data into features (queries) and labels (intents)\n",
    "queries, intents = zip(*data)\n",
    "\n",
    "# Initialize TF-IDF vectorizer\n",
    "vectorizer = TfidfVectorizer()\n",
    "\n",
    "# Vectorize queries\n",
    "X = vectorizer.fit_transform(queries)\n",
    "\n",
    "# Split data into training and testing sets\n",
    "X_train, X_test, y_train, y_test = train_test_split(X, intents, test_size=0.2, random_state=42)\n",
    "\n",
    "# Initialize SVM classifier\n",
    "classifier = SVC(kernel='linear')\n",
    "\n",
    "# Train the classifier\n",
    "classifier.fit(X_train, y_train)\n",
    "\n",
    "# Predict intents for test data\n",
    "y_pred = classifier.predict(X_test)\n",
    "\n",
    "# Evaluate accuracy\n",
    "accuracy = accuracy_score(y_test, y_pred)\n",
    "print(\"Accuracy:\", accuracy)\n"
   ]
  }
 ],
 "metadata": {
  "kernelspec": {
   "display_name": "Python 3",
   "language": "python",
   "name": "python3"
  },
  "language_info": {
   "codemirror_mode": {
    "name": "ipython",
    "version": 3
   },
   "file_extension": ".py",
   "mimetype": "text/x-python",
   "name": "python",
   "nbconvert_exporter": "python",
   "pygments_lexer": "ipython3",
   "version": "3.11.5"
  }
 },
 "nbformat": 4,
 "nbformat_minor": 2
}
